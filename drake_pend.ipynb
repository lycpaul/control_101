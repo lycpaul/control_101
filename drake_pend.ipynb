{
 "cells": [
  {
   "cell_type": "code",
   "execution_count": 1,
   "metadata": {},
   "outputs": [],
   "source": [
    "import numpy as np\n",
    "from pydrake.all import (\n",
    "    DiagramBuilder,\n",
    "    MeshcatVisualizer,\n",
    "    RigidTransform,\n",
    "    RotationMatrix,\n",
    "    SceneGraph,\n",
    "    Simulator,\n",
    "    StartMeshcat,\n",
    ")\n",
    "from pydrake.examples import PendulumGeometry, PendulumPlant\n",
    "\n",
    "from underactuated import running_as_notebook\n",
    "from underactuated.meshcat_utils import MeshcatSliders"
   ]
  },
  {
   "cell_type": "code",
   "execution_count": 2,
   "metadata": {},
   "outputs": [
    {
     "name": "stderr",
     "output_type": "stream",
     "text": [
      "INFO:drake:Meshcat listening for connections at http://localhost:7000\n"
     ]
    }
   ],
   "source": [
    "# Start the visualizer (run this cell only once, each instance consumes a port)\n",
    "meshcat = StartMeshcat()"
   ]
  },
  {
   "cell_type": "code",
   "execution_count": 3,
   "metadata": {},
   "outputs": [
    {
     "name": "stdout",
     "output_type": "stream",
     "text": [
      "Use the slider in the MeshCat controls to apply elbow torque.\n",
      "Press 'Stop Simulation' in MeshCat to continue.\n"
     ]
    }
   ],
   "source": [
    "def pendulum_simulation():\n",
    "    builder = DiagramBuilder()\n",
    "    pendulum = builder.AddSystem(PendulumPlant())\n",
    "\n",
    "    # Setup visualization\n",
    "    scene_graph = builder.AddSystem(SceneGraph())\n",
    "    PendulumGeometry.AddToBuilder(\n",
    "        builder, pendulum.get_state_output_port(), scene_graph\n",
    "    )\n",
    "    MeshcatVisualizer.AddToBuilder(builder, scene_graph, meshcat)\n",
    "    meshcat.Delete()\n",
    "    meshcat.Set2dRenderMode(\n",
    "        X_WC=RigidTransform(RotationMatrix.MakeZRotation(np.pi), [0, 1, 0])\n",
    "    )\n",
    "\n",
    "    # Setup slider input\n",
    "    meshcat.AddSlider(\"u\", min=-5, max=5, step=0.1, value=0.0)\n",
    "    torque_system = builder.AddSystem(MeshcatSliders(meshcat, [\"u\"]))\n",
    "    builder.Connect(torque_system.get_output_port(), pendulum.get_input_port())\n",
    "\n",
    "    diagram = builder.Build()\n",
    "\n",
    "    # Set up a simulator to run this diagram\n",
    "    simulator = Simulator(diagram)\n",
    "    context = simulator.get_mutable_context()\n",
    "\n",
    "    meshcat.AddButton(\"Stop Simulation\")\n",
    "\n",
    "    # Set the initial conditions\n",
    "    context.SetContinuousState([0.5, 0])  # theta, thetadot\n",
    "\n",
    "    if running_as_notebook:  # Then we're not just running as a test on CI.\n",
    "        simulator.set_target_realtime_rate(1.0)\n",
    "\n",
    "        print(\"Use the slider in the MeshCat controls to apply elbow torque.\")\n",
    "        print(\"Press 'Stop Simulation' in MeshCat to continue.\")\n",
    "        while meshcat.GetButtonClicks(\"Stop Simulation\") < 1:\n",
    "            simulator.AdvanceTo(simulator.get_context().get_time() + 1.0)\n",
    "    else:\n",
    "        simulator.AdvanceTo(0.1)\n",
    "\n",
    "    meshcat.DeleteAddedControls()\n",
    "\n",
    "\n",
    "pendulum_simulation()\n"
   ]
  },
  {
   "cell_type": "code",
   "execution_count": null,
   "metadata": {},
   "outputs": [],
   "source": []
  },
  {
   "cell_type": "code",
   "execution_count": null,
   "metadata": {},
   "outputs": [],
   "source": []
  }
 ],
 "metadata": {
  "kernelspec": {
   "display_name": "control",
   "language": "python",
   "name": "python3"
  },
  "language_info": {
   "codemirror_mode": {
    "name": "ipython",
    "version": 3
   },
   "file_extension": ".py",
   "mimetype": "text/x-python",
   "name": "python",
   "nbconvert_exporter": "python",
   "pygments_lexer": "ipython3",
   "version": "3.12.11"
  }
 },
 "nbformat": 4,
 "nbformat_minor": 2
}
