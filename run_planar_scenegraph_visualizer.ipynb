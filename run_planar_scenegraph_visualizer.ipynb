{
 "cells": [
  {
   "cell_type": "code",
   "execution_count": 1,
   "metadata": {},
   "outputs": [],
   "source": [
    "import numpy as np\n",
    "\n",
    "from pydrake.all import (\n",
    "    DiagramBuilder,\n",
    "    MeshcatVisualizer,\n",
    "    Simulator,\n",
    "    StartMeshcat,\n",
    ")\n",
    "from pydrake.common import temp_directory\n",
    "from pydrake.examples import ManipulationStation\n",
    "from pydrake.multibody.parsing import Parser\n",
    "from pydrake.multibody.plant import AddMultibodyPlantSceneGraph"
   ]
  },
  {
   "cell_type": "code",
   "execution_count": 2,
   "metadata": {},
   "outputs": [
    {
     "name": "stderr",
     "output_type": "stream",
     "text": [
      "INFO:drake:Meshcat listening for connections at http://localhost:7001\n"
     ]
    }
   ],
   "source": [
    " # Start meshcat server\n",
    "meshcat = StartMeshcat()\n",
    "playback = True\n",
    "duration = 1.0\n",
    "# model = \"pend\"\n",
    "model = \"manip\""
   ]
  },
  {
   "cell_type": "code",
   "execution_count": 3,
   "metadata": {},
   "outputs": [],
   "source": [
    "def run_pendulum_example():\n",
    "    builder = DiagramBuilder()\n",
    "    plant, scene_graph = AddMultibodyPlantSceneGraph(builder, 0.0)\n",
    "    parser = Parser(plant)\n",
    "    parser.AddModelsFromUrl(url=\"package://drake/examples/pendulum/Pendulum.urdf\")\n",
    "    plant.Finalize()\n",
    "\n",
    "    # Add Meshcat visualizer\n",
    "    meshcat_viz = MeshcatVisualizer.AddToBuilder(builder, scene_graph, meshcat)\n",
    "\n",
    "    if playback:\n",
    "        meshcat_viz.StartRecording()\n",
    "\n",
    "    diagram = builder.Build()\n",
    "    simulator = Simulator(diagram)\n",
    "    simulator.Initialize()\n",
    "    simulator.set_target_realtime_rate(1.0)\n",
    "\n",
    "    # Fix the input port to zero.\n",
    "    plant_context = diagram.GetMutableSubsystemContext(\n",
    "        plant, simulator.get_mutable_context()\n",
    "    )\n",
    "    plant.get_actuation_input_port().FixValue(\n",
    "        plant_context, np.zeros(plant.num_actuators())\n",
    "    )\n",
    "    plant_context.SetContinuousState(np.array([0.5, 0.1]))\n",
    "    simulator.AdvanceTo(duration)\n",
    "\n",
    "    if playback:\n",
    "        meshcat_viz.StopRecording()\n",
    "        meshcat_viz.PublishRecording()\n",
    "\n",
    "\n",
    "def run_manipulation_example():\n",
    "    # Start meshcat server\n",
    "    meshcat = StartMeshcat()\n",
    "\n",
    "    builder = DiagramBuilder()\n",
    "    station = builder.AddSystem(ManipulationStation(time_step=0.005))\n",
    "    station.SetupClutterClearingStation()\n",
    "    station.Finalize()\n",
    "\n",
    "    scene_graph = station.get_scene_graph()\n",
    "\n",
    "    # Add Meshcat visualizer\n",
    "    meshcat_viz = MeshcatVisualizer.AddToBuilder(builder, scene_graph, meshcat)\n",
    "\n",
    "    if playback:\n",
    "        meshcat_viz.StartRecording()\n",
    "\n",
    "    diagram = builder.Build()\n",
    "    simulator = Simulator(diagram)\n",
    "    simulator.Initialize()\n",
    "    simulator.set_target_realtime_rate(1.0)\n",
    "\n",
    "    # Fix the control inputs to zero.\n",
    "    station_context = diagram.GetMutableSubsystemContext(\n",
    "        station, simulator.get_mutable_context()\n",
    "    )\n",
    "    station.GetInputPort(\"iiwa_position\").FixValue(\n",
    "        station_context, station.GetIiwaPosition(station_context)\n",
    "    )\n",
    "    station.GetInputPort(\"iiwa_feedforward_torque\").FixValue(\n",
    "        station_context, np.zeros(7)\n",
    "    )\n",
    "    station.GetInputPort(\"wsg_position\").FixValue(station_context, np.zeros(1))\n",
    "    station.GetInputPort(\"wsg_force_limit\").FixValue(station_context, np.array([40.0]))\n",
    "    simulator.AdvanceTo(duration)\n",
    "\n",
    "    if playback:\n",
    "        meshcat_viz.StopRecording()\n",
    "        meshcat_viz.PublishRecording()\n",
    "\n",
    "\n",
    "def main():\n",
    "    np.set_printoptions(precision=5, suppress=True)\n",
    "    if model == \"pend\":\n",
    "        run_pendulum_example()\n",
    "    elif model == \"manip\":\n",
    "        run_manipulation_example()"
   ]
  },
  {
   "cell_type": "code",
   "execution_count": null,
   "metadata": {},
   "outputs": [
    {
     "name": "stderr",
     "output_type": "stream",
     "text": [
      "INFO:drake:Meshcat listening for connections at http://localhost:7002\n"
     ]
    },
    {
     "name": "stderr",
     "output_type": "stream",
     "text": [
      "INFO:drake:PackageMap: Downloading https://github.com/RobotLocomotion/models/archive/b1e6a452495c59eec34f849e76cc78f7631473c4.tar.gz\n"
     ]
    },
    {
     "ename": "RuntimeError",
     "evalue": "DiagramBuilder: System 'scene_graph' has not been registered to this DiagramBuilder using AddSystem nor AddNamedSystem.\n\nThe systems currently registered to this builder are: 'manipulation_station', 'meshcat_visualizer(visualizer)'.\n\nIf 'scene_graph' was registered as a subsystem to one of these, you must export the input or output port using ExportInput/ExportOutput and then connect to the exported port.",
     "output_type": "error",
     "traceback": [
      "\u001b[31m---------------------------------------------------------------------------\u001b[39m",
      "\u001b[31mRuntimeError\u001b[39m                              Traceback (most recent call last)",
      "\u001b[36mCell\u001b[39m\u001b[36m \u001b[39m\u001b[32mIn[4]\u001b[39m\u001b[32m, line 1\u001b[39m\n\u001b[32m----> \u001b[39m\u001b[32m1\u001b[39m \u001b[43mmain\u001b[49m\u001b[43m(\u001b[49m\u001b[43m)\u001b[49m\n",
      "\u001b[36mCell\u001b[39m\u001b[36m \u001b[39m\u001b[32mIn[3]\u001b[39m\u001b[32m, line 80\u001b[39m, in \u001b[36mmain\u001b[39m\u001b[34m()\u001b[39m\n\u001b[32m     78\u001b[39m     run_pendulum_example()\n\u001b[32m     79\u001b[39m \u001b[38;5;28;01melif\u001b[39;00m model == \u001b[33m\"\u001b[39m\u001b[33mmanip\u001b[39m\u001b[33m\"\u001b[39m:\n\u001b[32m---> \u001b[39m\u001b[32m80\u001b[39m     \u001b[43mrun_manipulation_example\u001b[49m\u001b[43m(\u001b[49m\u001b[43m)\u001b[49m\n",
      "\u001b[36mCell\u001b[39m\u001b[36m \u001b[39m\u001b[32mIn[3]\u001b[39m\u001b[32m, line 46\u001b[39m, in \u001b[36mrun_manipulation_example\u001b[39m\u001b[34m()\u001b[39m\n\u001b[32m     43\u001b[39m scene_graph = station.get_scene_graph()\n\u001b[32m     45\u001b[39m \u001b[38;5;66;03m# Add Meshcat visualizer\u001b[39;00m\n\u001b[32m---> \u001b[39m\u001b[32m46\u001b[39m meshcat_viz = \u001b[43mMeshcatVisualizer\u001b[49m\u001b[43m.\u001b[49m\u001b[43mAddToBuilder\u001b[49m\u001b[43m(\u001b[49m\u001b[43mbuilder\u001b[49m\u001b[43m,\u001b[49m\u001b[43m \u001b[49m\u001b[43mscene_graph\u001b[49m\u001b[43m,\u001b[49m\u001b[43m \u001b[49m\u001b[43mmeshcat\u001b[49m\u001b[43m)\u001b[49m\n\u001b[32m     48\u001b[39m \u001b[38;5;28;01mif\u001b[39;00m playback:\n\u001b[32m     49\u001b[39m     meshcat_viz.StartRecording()\n",
      "\u001b[31mRuntimeError\u001b[39m: DiagramBuilder: System 'scene_graph' has not been registered to this DiagramBuilder using AddSystem nor AddNamedSystem.\n\nThe systems currently registered to this builder are: 'manipulation_station', 'meshcat_visualizer(visualizer)'.\n\nIf 'scene_graph' was registered as a subsystem to one of these, you must export the input or output port using ExportInput/ExportOutput and then connect to the exported port."
     ]
    }
   ],
   "source": [
    "main()"
   ]
  },
  {
   "cell_type": "code",
   "execution_count": null,
   "metadata": {},
   "outputs": [],
   "source": []
  },
  {
   "cell_type": "code",
   "execution_count": null,
   "metadata": {},
   "outputs": [],
   "source": []
  },
  {
   "cell_type": "code",
   "execution_count": null,
   "metadata": {},
   "outputs": [],
   "source": []
  },
  {
   "cell_type": "code",
   "execution_count": null,
   "metadata": {},
   "outputs": [],
   "source": []
  }
 ],
 "metadata": {
  "kernelspec": {
   "display_name": "control",
   "language": "python",
   "name": "python3"
  },
  "language_info": {
   "codemirror_mode": {
    "name": "ipython",
    "version": 3
   },
   "file_extension": ".py",
   "mimetype": "text/x-python",
   "name": "python",
   "nbconvert_exporter": "python",
   "pygments_lexer": "ipython3",
   "version": "3.12.11"
  }
 },
 "nbformat": 4,
 "nbformat_minor": 2
}
